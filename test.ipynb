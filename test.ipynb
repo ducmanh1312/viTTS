{
 "cells": [
  {
   "cell_type": "code",
   "execution_count": 3,
   "id": "846eca43",
   "metadata": {},
   "outputs": [
    {
     "name": "stdout",
     "output_type": "stream",
     "text": [
      "Collecting moviepy\n",
      "  Using cached moviepy-2.1.2-py3-none-any.whl.metadata (6.9 kB)\n",
      "Requirement already satisfied: decorator<6.0,>=4.0.2 in /home/icnlab/anaconda3/envs/aiot/lib/python3.10/site-packages (from moviepy) (5.2.1)\n",
      "Collecting imageio<3.0,>=2.5 (from moviepy)\n",
      "  Using cached imageio-2.37.0-py3-none-any.whl.metadata (5.2 kB)\n",
      "Collecting imageio_ffmpeg>=0.2.0 (from moviepy)\n",
      "  Using cached imageio_ffmpeg-0.6.0-py3-none-manylinux2014_x86_64.whl.metadata (1.5 kB)\n",
      "Requirement already satisfied: numpy>=1.25.0 in /home/icnlab/anaconda3/envs/aiot/lib/python3.10/site-packages (from moviepy) (1.26.4)\n",
      "Collecting proglog<=1.0.0 (from moviepy)\n",
      "  Using cached proglog-0.1.11-py3-none-any.whl.metadata (794 bytes)\n",
      "Requirement already satisfied: python-dotenv>=0.10 in /home/icnlab/anaconda3/envs/aiot/lib/python3.10/site-packages (from moviepy) (1.1.0)\n",
      "Requirement already satisfied: pillow<11.0,>=9.2.0 in /home/icnlab/anaconda3/envs/aiot/lib/python3.10/site-packages (from moviepy) (10.4.0)\n",
      "Requirement already satisfied: tqdm in /home/icnlab/anaconda3/envs/aiot/lib/python3.10/site-packages (from proglog<=1.0.0->moviepy) (4.67.1)\n",
      "Using cached moviepy-2.1.2-py3-none-any.whl (126 kB)\n",
      "Using cached imageio-2.37.0-py3-none-any.whl (315 kB)\n",
      "Using cached imageio_ffmpeg-0.6.0-py3-none-manylinux2014_x86_64.whl (29.5 MB)\n",
      "Using cached proglog-0.1.11-py3-none-any.whl (7.8 kB)\n",
      "Installing collected packages: proglog, imageio_ffmpeg, imageio, moviepy\n",
      "Successfully installed imageio-2.37.0 imageio_ffmpeg-0.6.0 moviepy-2.1.2 proglog-0.1.11\n"
     ]
    }
   ],
   "source": [
    "!pip install moviepy"
   ]
  },
  {
   "cell_type": "code",
   "execution_count": 4,
   "metadata": {},
   "outputs": [
    {
     "name": "stdout",
     "output_type": "stream",
     "text": [
      "{'video_found': True, 'audio_found': True, 'metadata': {'compatible_brands': 'qt', 'major_brand': 'qt', 'minor_version': '0', 'creation_time': '2025-04-08T11:26:29.000000Z', 'modification_time': '2025-04-08T11:27:09.000000Z', 'mp4_data_incomplete': 'false', 'encoder': 'Lavf61.1.100'}, 'inputs': [{'streams': [{'input_number': 0, 'stream_number': 0, 'stream_type': 'video', 'language': None, 'default': True, 'size': [1920, 1080], 'bitrate': 2819, 'fps': 30.0, 'codec_name': 'h264', 'profile': '(High)', 'metadata': {'Metadata': '', 'creation_time': '2025-04-08T11:26:29.000000Z', 'handler_name': 'VideoHandler', 'vendor_id': '[0][0][0][0]'}}, {'input_number': 0, 'stream_number': 1, 'stream_type': 'audio', 'language': None, 'default': True, 'fps': 44100, 'bitrate': 116, 'metadata': {'Metadata': '', 'creation_time': '2025-04-08T11:26:29.000000Z', 'handler_name': 'SoundHandler', 'vendor_id': '[0][0][0][0]'}}], 'input_number': 0}], 'duration': 280.5, 'bitrate': 2941, 'start': 0.0, 'default_video_input_number': 0, 'default_video_stream_number': 0, 'video_codec_name': 'h264', 'video_profile': '(High)', 'video_size': [1920, 1080], 'video_bitrate': 2819, 'video_fps': 30.0, 'default_audio_input_number': 0, 'default_audio_stream_number': 1, 'audio_fps': 44100, 'audio_bitrate': 116, 'video_duration': 280.5, 'video_n_frames': 8415}\n",
      "/home/icnlab/anaconda3/envs/aiot/lib/python3.10/site-packages/imageio_ffmpeg/binaries/ffmpeg-linux-x86_64-v7.0.2 -i lesson.mp4 -loglevel error -f image2pipe -vf scale=1920:1080 -sws_flags bicubic -pix_fmt rgb24 -vcodec rawvideo -\n",
      "MoviePy - Writing audio in lesson.wav\n"
     ]
    },
    {
     "name": "stderr",
     "output_type": "stream",
     "text": [
      "chunk:   0%|          | 0/6186 [00:00<?, ?it/s, now=None]"
     ]
    },
    {
     "name": "stderr",
     "output_type": "stream",
     "text": [
      "                                                                      "
     ]
    },
    {
     "name": "stdout",
     "output_type": "stream",
     "text": [
      "MoviePy - Done.\n"
     ]
    },
    {
     "name": "stderr",
     "output_type": "stream",
     "text": [
      "\r"
     ]
    }
   ],
   "source": [
    "from moviepy import VideoFileClip\n",
    "\n",
    "def convert_mp4_to_wav(input_file, output_file):\n",
    "    video = VideoFileClip(input_file)\n",
    "    audio = video.audio\n",
    "    audio.write_audiofile(output_file)\n",
    "    audio.close()\n",
    "    video.close()\n",
    "\n",
    "# Convert the file\n",
    "input_mp4 = \"lesson.mp4\"\n",
    "output_wav = \"lesson.wav\"\n",
    "convert_mp4_to_wav(input_mp4, output_wav)"
   ]
  }
 ],
 "metadata": {
  "kernelspec": {
   "display_name": "aiot",
   "language": "python",
   "name": "python3"
  },
  "language_info": {
   "codemirror_mode": {
    "name": "ipython",
    "version": 3
   },
   "file_extension": ".py",
   "mimetype": "text/x-python",
   "name": "python",
   "nbconvert_exporter": "python",
   "pygments_lexer": "ipython3",
   "version": "3.10.16"
  }
 },
 "nbformat": 4,
 "nbformat_minor": 5
}
